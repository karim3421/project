{
 "cells": [
  {
   "cell_type": "code",
   "execution_count": 38,
   "metadata": {},
   "outputs": [],
   "source": [
    "import pandas as pd\n",
    "import numpy as np\n",
    "import matplotlib.pyplot as plt \n",
    "import seaborn as sns\n",
    "from sklearn.model_selection import train_test_split\n",
    "from pandas.plotting import scatter_matrix\n",
    "from sklearn.dummy import DummyClassifier\n",
    "from sklearn.tree import DecisionTreeClassifier\n",
    "from sklearn.linear_model import LogisticRegression\n",
    "from sklearn.ensemble import RandomForestClassifier, GradientBoostingClassifier\n",
    "from sklearn.model_selection import cross_val_score, GridSearchCV\n",
    "from sklearn.preprocessing import StandardScaler\n",
    "from sklearn.preprocessing import LabelEncoder\n",
    "\n",
    "import warnings \n",
    "warnings.filterwarnings('ignore')\n",
    "\n",
    "######## Evaluation Metrics ########\n",
    "from sklearn.metrics import (\n",
    "    accuracy_score,\n",
    "    precision_score,\n",
    "    recall_score,\n",
    "    f1_score,\n",
    "    confusion_matrix,\n",
    "    ConfusionMatrixDisplay,\n",
    "    roc_auc_score,\n",
    "    roc_curve,\n",
    "    classification_report,\n",
    ")\n",
    "import time\n"
   ]
  },
  {
   "cell_type": "code",
   "execution_count": 2,
   "metadata": {},
   "outputs": [],
   "source": [
    "df = pd.read_csv(r'Practical_Exam/card_transdata.csv')"
   ]
  },
  {
   "cell_type": "markdown",
   "metadata": {},
   "source": [
    "# knowing data structure"
   ]
  },
  {
   "cell_type": "code",
   "execution_count": 3,
   "metadata": {},
   "outputs": [
    {
     "data": {
      "text/html": [
       "<div>\n",
       "<style scoped>\n",
       "    .dataframe tbody tr th:only-of-type {\n",
       "        vertical-align: middle;\n",
       "    }\n",
       "\n",
       "    .dataframe tbody tr th {\n",
       "        vertical-align: top;\n",
       "    }\n",
       "\n",
       "    .dataframe thead th {\n",
       "        text-align: right;\n",
       "    }\n",
       "</style>\n",
       "<table border=\"1\" class=\"dataframe\">\n",
       "  <thead>\n",
       "    <tr style=\"text-align: right;\">\n",
       "      <th></th>\n",
       "      <th>Unnamed: 0</th>\n",
       "      <th>distance_from_home</th>\n",
       "      <th>distance_from_last_transaction</th>\n",
       "      <th>ratio_to_median_purchase_price</th>\n",
       "      <th>repeat_retailer</th>\n",
       "      <th>used_chip</th>\n",
       "      <th>used_pin_number</th>\n",
       "      <th>online_order</th>\n",
       "      <th>fraud</th>\n",
       "    </tr>\n",
       "  </thead>\n",
       "  <tbody>\n",
       "    <tr>\n",
       "      <th>0</th>\n",
       "      <td>0</td>\n",
       "      <td>57.877857</td>\n",
       "      <td>0.311140</td>\n",
       "      <td>1.945940</td>\n",
       "      <td>1.0</td>\n",
       "      <td>1.0</td>\n",
       "      <td>0.0</td>\n",
       "      <td>0.0</td>\n",
       "      <td>not_fraud</td>\n",
       "    </tr>\n",
       "    <tr>\n",
       "      <th>1</th>\n",
       "      <td>1</td>\n",
       "      <td>10.829943</td>\n",
       "      <td>0.175592</td>\n",
       "      <td>1.294219</td>\n",
       "      <td>1.0</td>\n",
       "      <td>0.0</td>\n",
       "      <td>0.0</td>\n",
       "      <td>0.0</td>\n",
       "      <td>not_fraud</td>\n",
       "    </tr>\n",
       "    <tr>\n",
       "      <th>2</th>\n",
       "      <td>2</td>\n",
       "      <td>5.091079</td>\n",
       "      <td>0.805153</td>\n",
       "      <td>0.427715</td>\n",
       "      <td>1.0</td>\n",
       "      <td>0.0</td>\n",
       "      <td>0.0</td>\n",
       "      <td>1.0</td>\n",
       "      <td>not_fraud</td>\n",
       "    </tr>\n",
       "    <tr>\n",
       "      <th>3</th>\n",
       "      <td>3</td>\n",
       "      <td>2.247564</td>\n",
       "      <td>5.600044</td>\n",
       "      <td>0.362663</td>\n",
       "      <td>1.0</td>\n",
       "      <td>1.0</td>\n",
       "      <td>0.0</td>\n",
       "      <td>1.0</td>\n",
       "      <td>not_fraud</td>\n",
       "    </tr>\n",
       "    <tr>\n",
       "      <th>4</th>\n",
       "      <td>4</td>\n",
       "      <td>44.190936</td>\n",
       "      <td>0.566486</td>\n",
       "      <td>2.222767</td>\n",
       "      <td>1.0</td>\n",
       "      <td>1.0</td>\n",
       "      <td>0.0</td>\n",
       "      <td>1.0</td>\n",
       "      <td>not_fraud</td>\n",
       "    </tr>\n",
       "  </tbody>\n",
       "</table>\n",
       "</div>"
      ],
      "text/plain": [
       "   Unnamed: 0  distance_from_home  distance_from_last_transaction  \\\n",
       "0           0           57.877857                        0.311140   \n",
       "1           1           10.829943                        0.175592   \n",
       "2           2            5.091079                        0.805153   \n",
       "3           3            2.247564                        5.600044   \n",
       "4           4           44.190936                        0.566486   \n",
       "\n",
       "   ratio_to_median_purchase_price  repeat_retailer  used_chip  \\\n",
       "0                        1.945940              1.0        1.0   \n",
       "1                        1.294219              1.0        0.0   \n",
       "2                        0.427715              1.0        0.0   \n",
       "3                        0.362663              1.0        1.0   \n",
       "4                        2.222767              1.0        1.0   \n",
       "\n",
       "   used_pin_number  online_order      fraud  \n",
       "0              0.0           0.0  not_fraud  \n",
       "1              0.0           0.0  not_fraud  \n",
       "2              0.0           1.0  not_fraud  \n",
       "3              0.0           1.0  not_fraud  \n",
       "4              0.0           1.0  not_fraud  "
      ]
     },
     "execution_count": 3,
     "metadata": {},
     "output_type": "execute_result"
    }
   ],
   "source": [
    "df.head()"
   ]
  },
  {
   "cell_type": "code",
   "execution_count": 4,
   "metadata": {},
   "outputs": [
    {
     "name": "stdout",
     "output_type": "stream",
     "text": [
      "<class 'pandas.core.frame.DataFrame'>\n",
      "RangeIndex: 1000005 entries, 0 to 1000004\n",
      "Data columns (total 9 columns):\n",
      " #   Column                          Non-Null Count    Dtype  \n",
      "---  ------                          --------------    -----  \n",
      " 0   Unnamed: 0                      1000005 non-null  int64  \n",
      " 1   distance_from_home              1000004 non-null  float64\n",
      " 2   distance_from_last_transaction  1000002 non-null  float64\n",
      " 3   ratio_to_median_purchase_price  1000002 non-null  float64\n",
      " 4   repeat_retailer                 1000002 non-null  float64\n",
      " 5   used_chip                       1000002 non-null  float64\n",
      " 6   used_pin_number                 1000002 non-null  float64\n",
      " 7   online_order                    1000002 non-null  float64\n",
      " 8   fraud                           1000002 non-null  object \n",
      "dtypes: float64(7), int64(1), object(1)\n",
      "memory usage: 68.7+ MB\n"
     ]
    }
   ],
   "source": [
    "df.info()"
   ]
  },
  {
   "cell_type": "code",
   "execution_count": 5,
   "metadata": {},
   "outputs": [],
   "source": [
    "df.drop(columns =['Unnamed: 0'],inplace= True)"
   ]
  },
  {
   "cell_type": "code",
   "execution_count": 6,
   "metadata": {},
   "outputs": [
    {
     "data": {
      "text/html": [
       "<div>\n",
       "<style scoped>\n",
       "    .dataframe tbody tr th:only-of-type {\n",
       "        vertical-align: middle;\n",
       "    }\n",
       "\n",
       "    .dataframe tbody tr th {\n",
       "        vertical-align: top;\n",
       "    }\n",
       "\n",
       "    .dataframe thead th {\n",
       "        text-align: right;\n",
       "    }\n",
       "</style>\n",
       "<table border=\"1\" class=\"dataframe\">\n",
       "  <thead>\n",
       "    <tr style=\"text-align: right;\">\n",
       "      <th></th>\n",
       "      <th>distance_from_home</th>\n",
       "      <th>distance_from_last_transaction</th>\n",
       "      <th>ratio_to_median_purchase_price</th>\n",
       "      <th>repeat_retailer</th>\n",
       "      <th>used_chip</th>\n",
       "      <th>used_pin_number</th>\n",
       "      <th>online_order</th>\n",
       "    </tr>\n",
       "  </thead>\n",
       "  <tbody>\n",
       "    <tr>\n",
       "      <th>count</th>\n",
       "      <td>1.000004e+06</td>\n",
       "      <td>1.000002e+06</td>\n",
       "      <td>1.000002e+06</td>\n",
       "      <td>1.000002e+06</td>\n",
       "      <td>1.000002e+06</td>\n",
       "      <td>1.000002e+06</td>\n",
       "      <td>1.000002e+06</td>\n",
       "    </tr>\n",
       "    <tr>\n",
       "      <th>mean</th>\n",
       "      <td>2.662879e+01</td>\n",
       "      <td>5.036510e+00</td>\n",
       "      <td>1.824182e+00</td>\n",
       "      <td>8.815362e-01</td>\n",
       "      <td>3.504003e-01</td>\n",
       "      <td>1.006078e-01</td>\n",
       "      <td>6.505507e-01</td>\n",
       "    </tr>\n",
       "    <tr>\n",
       "      <th>std</th>\n",
       "      <td>6.539068e+01</td>\n",
       "      <td>2.584307e+01</td>\n",
       "      <td>2.799586e+00</td>\n",
       "      <td>3.231566e-01</td>\n",
       "      <td>4.770955e-01</td>\n",
       "      <td>3.008088e-01</td>\n",
       "      <td>4.767963e-01</td>\n",
       "    </tr>\n",
       "    <tr>\n",
       "      <th>min</th>\n",
       "      <td>-5.000000e+00</td>\n",
       "      <td>1.182816e-04</td>\n",
       "      <td>4.399240e-03</td>\n",
       "      <td>0.000000e+00</td>\n",
       "      <td>0.000000e+00</td>\n",
       "      <td>0.000000e+00</td>\n",
       "      <td>0.000000e+00</td>\n",
       "    </tr>\n",
       "    <tr>\n",
       "      <th>25%</th>\n",
       "      <td>3.877990e+00</td>\n",
       "      <td>2.966709e-01</td>\n",
       "      <td>4.756734e-01</td>\n",
       "      <td>1.000000e+00</td>\n",
       "      <td>0.000000e+00</td>\n",
       "      <td>0.000000e+00</td>\n",
       "      <td>0.000000e+00</td>\n",
       "    </tr>\n",
       "    <tr>\n",
       "      <th>50%</th>\n",
       "      <td>9.967760e+00</td>\n",
       "      <td>9.986473e-01</td>\n",
       "      <td>9.977227e-01</td>\n",
       "      <td>1.000000e+00</td>\n",
       "      <td>0.000000e+00</td>\n",
       "      <td>0.000000e+00</td>\n",
       "      <td>1.000000e+00</td>\n",
       "    </tr>\n",
       "    <tr>\n",
       "      <th>75%</th>\n",
       "      <td>2.574404e+01</td>\n",
       "      <td>3.355726e+00</td>\n",
       "      <td>2.096369e+00</td>\n",
       "      <td>1.000000e+00</td>\n",
       "      <td>1.000000e+00</td>\n",
       "      <td>0.000000e+00</td>\n",
       "      <td>1.000000e+00</td>\n",
       "    </tr>\n",
       "    <tr>\n",
       "      <th>max</th>\n",
       "      <td>1.063272e+04</td>\n",
       "      <td>1.185110e+04</td>\n",
       "      <td>2.678029e+02</td>\n",
       "      <td>1.000000e+00</td>\n",
       "      <td>1.000000e+00</td>\n",
       "      <td>1.000000e+00</td>\n",
       "      <td>1.000000e+00</td>\n",
       "    </tr>\n",
       "  </tbody>\n",
       "</table>\n",
       "</div>"
      ],
      "text/plain": [
       "       distance_from_home  distance_from_last_transaction  \\\n",
       "count        1.000004e+06                    1.000002e+06   \n",
       "mean         2.662879e+01                    5.036510e+00   \n",
       "std          6.539068e+01                    2.584307e+01   \n",
       "min         -5.000000e+00                    1.182816e-04   \n",
       "25%          3.877990e+00                    2.966709e-01   \n",
       "50%          9.967760e+00                    9.986473e-01   \n",
       "75%          2.574404e+01                    3.355726e+00   \n",
       "max          1.063272e+04                    1.185110e+04   \n",
       "\n",
       "       ratio_to_median_purchase_price  repeat_retailer     used_chip  \\\n",
       "count                    1.000002e+06     1.000002e+06  1.000002e+06   \n",
       "mean                     1.824182e+00     8.815362e-01  3.504003e-01   \n",
       "std                      2.799586e+00     3.231566e-01  4.770955e-01   \n",
       "min                      4.399240e-03     0.000000e+00  0.000000e+00   \n",
       "25%                      4.756734e-01     1.000000e+00  0.000000e+00   \n",
       "50%                      9.977227e-01     1.000000e+00  0.000000e+00   \n",
       "75%                      2.096369e+00     1.000000e+00  1.000000e+00   \n",
       "max                      2.678029e+02     1.000000e+00  1.000000e+00   \n",
       "\n",
       "       used_pin_number  online_order  \n",
       "count     1.000002e+06  1.000002e+06  \n",
       "mean      1.006078e-01  6.505507e-01  \n",
       "std       3.008088e-01  4.767963e-01  \n",
       "min       0.000000e+00  0.000000e+00  \n",
       "25%       0.000000e+00  0.000000e+00  \n",
       "50%       0.000000e+00  1.000000e+00  \n",
       "75%       0.000000e+00  1.000000e+00  \n",
       "max       1.000000e+00  1.000000e+00  "
      ]
     },
     "execution_count": 6,
     "metadata": {},
     "output_type": "execute_result"
    }
   ],
   "source": [
    "df.describe()"
   ]
  },
  {
   "cell_type": "code",
   "execution_count": 7,
   "metadata": {},
   "outputs": [
    {
     "data": {
      "text/plain": [
       "distance_from_home                1\n",
       "distance_from_last_transaction    3\n",
       "ratio_to_median_purchase_price    3\n",
       "repeat_retailer                   3\n",
       "used_chip                         3\n",
       "used_pin_number                   3\n",
       "online_order                      3\n",
       "fraud                             3\n",
       "dtype: int64"
      ]
     },
     "execution_count": 7,
     "metadata": {},
     "output_type": "execute_result"
    }
   ],
   "source": [
    "df.isna().sum()"
   ]
  },
  {
   "cell_type": "code",
   "execution_count": 8,
   "metadata": {},
   "outputs": [
    {
     "data": {
      "text/plain": [
       "3"
      ]
     },
     "execution_count": 8,
     "metadata": {},
     "output_type": "execute_result"
    }
   ],
   "source": [
    "df.duplicated().sum()"
   ]
  },
  {
   "cell_type": "markdown",
   "metadata": {},
   "source": [
    "# EDA"
   ]
  },
  {
   "cell_type": "code",
   "execution_count": 9,
   "metadata": {},
   "outputs": [
    {
     "data": {
      "image/png": "[encoded data removed]",
      "text/plain": [
       "<Figure size 2000x1200 with 9 Axes>"
      ]
     },
     "metadata": {},
     "output_type": "display_data"
    }
   ],
   "source": [
    "df.hist(bins= 50 , figsize= (20,12))\n",
    "plt.show()"
   ]
  },
  {
   "cell_type": "code",
   "execution_count": 10,
   "metadata": {},
   "outputs": [
    {
     "data": {
      "image/png": "[encoded data removed]",
      "text/plain": [
       "<Figure size 640x480 with 1 Axes>"
      ]
     },
     "metadata": {},
     "output_type": "display_data"
    }
   ],
   "source": [
    "sns.scatterplot(data= df, x = 'distance_from_home',y= 'distance_from_last_transaction')\n",
    "plt.show()"
   ]
  },
  {
   "cell_type": "code",
   "execution_count": 11,
   "metadata": {},
   "outputs": [
    {
     "data": {
      "text/html": [
       "<div>\n",
       "<style scoped>\n",
       "    .dataframe tbody tr th:only-of-type {\n",
       "        vertical-align: middle;\n",
       "    }\n",
       "\n",
       "    .dataframe tbody tr th {\n",
       "        vertical-align: top;\n",
       "    }\n",
       "\n",
       "    .dataframe thead th {\n",
       "        text-align: right;\n",
       "    }\n",
       "</style>\n",
       "<table border=\"1\" class=\"dataframe\">\n",
       "  <thead>\n",
       "    <tr style=\"text-align: right;\">\n",
       "      <th></th>\n",
       "      <th>distance_from_home</th>\n",
       "      <th>distance_from_last_transaction</th>\n",
       "      <th>ratio_to_median_purchase_price</th>\n",
       "      <th>repeat_retailer</th>\n",
       "      <th>used_chip</th>\n",
       "      <th>used_pin_number</th>\n",
       "      <th>online_order</th>\n",
       "    </tr>\n",
       "  </thead>\n",
       "  <tbody>\n",
       "    <tr>\n",
       "      <th>distance_from_home</th>\n",
       "      <td>1.000000</td>\n",
       "      <td>0.000193</td>\n",
       "      <td>-0.001374</td>\n",
       "      <td>0.143125</td>\n",
       "      <td>-0.000696</td>\n",
       "      <td>-0.001623</td>\n",
       "      <td>-0.001302</td>\n",
       "    </tr>\n",
       "    <tr>\n",
       "      <th>distance_from_last_transaction</th>\n",
       "      <td>0.000193</td>\n",
       "      <td>1.000000</td>\n",
       "      <td>0.001013</td>\n",
       "      <td>-0.000928</td>\n",
       "      <td>0.002054</td>\n",
       "      <td>-0.000899</td>\n",
       "      <td>0.000141</td>\n",
       "    </tr>\n",
       "    <tr>\n",
       "      <th>ratio_to_median_purchase_price</th>\n",
       "      <td>-0.001374</td>\n",
       "      <td>0.001013</td>\n",
       "      <td>1.000000</td>\n",
       "      <td>0.001374</td>\n",
       "      <td>0.000587</td>\n",
       "      <td>0.000942</td>\n",
       "      <td>-0.000330</td>\n",
       "    </tr>\n",
       "    <tr>\n",
       "      <th>repeat_retailer</th>\n",
       "      <td>0.143125</td>\n",
       "      <td>-0.000928</td>\n",
       "      <td>0.001374</td>\n",
       "      <td>1.000000</td>\n",
       "      <td>-0.001344</td>\n",
       "      <td>-0.000418</td>\n",
       "      <td>-0.000533</td>\n",
       "    </tr>\n",
       "    <tr>\n",
       "      <th>used_chip</th>\n",
       "      <td>-0.000696</td>\n",
       "      <td>0.002054</td>\n",
       "      <td>0.000587</td>\n",
       "      <td>-0.001344</td>\n",
       "      <td>1.000000</td>\n",
       "      <td>-0.001394</td>\n",
       "      <td>-0.000223</td>\n",
       "    </tr>\n",
       "    <tr>\n",
       "      <th>used_pin_number</th>\n",
       "      <td>-0.001623</td>\n",
       "      <td>-0.000899</td>\n",
       "      <td>0.000942</td>\n",
       "      <td>-0.000418</td>\n",
       "      <td>-0.001394</td>\n",
       "      <td>1.000000</td>\n",
       "      <td>-0.000290</td>\n",
       "    </tr>\n",
       "    <tr>\n",
       "      <th>online_order</th>\n",
       "      <td>-0.001302</td>\n",
       "      <td>0.000141</td>\n",
       "      <td>-0.000330</td>\n",
       "      <td>-0.000533</td>\n",
       "      <td>-0.000223</td>\n",
       "      <td>-0.000290</td>\n",
       "      <td>1.000000</td>\n",
       "    </tr>\n",
       "  </tbody>\n",
       "</table>\n",
       "</div>"
      ],
      "text/plain": [
       "                                distance_from_home  \\\n",
       "distance_from_home                        1.000000   \n",
       "distance_from_last_transaction            0.000193   \n",
       "ratio_to_median_purchase_price           -0.001374   \n",
       "repeat_retailer                           0.143125   \n",
       "used_chip                                -0.000696   \n",
       "used_pin_number                          -0.001623   \n",
       "online_order                             -0.001302   \n",
       "\n",
       "                                distance_from_last_transaction  \\\n",
       "distance_from_home                                    0.000193   \n",
       "distance_from_last_transaction                        1.000000   \n",
       "ratio_to_median_purchase_price                        0.001013   \n",
       "repeat_retailer                                      -0.000928   \n",
       "used_chip                                             0.002054   \n",
       "used_pin_number                                      -0.000899   \n",
       "online_order                                          0.000141   \n",
       "\n",
       "                                ratio_to_median_purchase_price  \\\n",
       "distance_from_home                                   -0.001374   \n",
       "distance_from_last_transaction                        0.001013   \n",
       "ratio_to_median_purchase_price                        1.000000   \n",
       "repeat_retailer                                       0.001374   \n",
       "used_chip                                             0.000587   \n",
       "used_pin_number                                       0.000942   \n",
       "online_order                                         -0.000330   \n",
       "\n",
       "                                repeat_retailer  used_chip  used_pin_number  \\\n",
       "distance_from_home                     0.143125  -0.000696        -0.001623   \n",
       "distance_from_last_transaction        -0.000928   0.002054        -0.000899   \n",
       "ratio_to_median_purchase_price         0.001374   0.000587         0.000942   \n",
       "repeat_retailer                        1.000000  -0.001344        -0.000418   \n",
       "used_chip                             -0.001344   1.000000        -0.001394   \n",
       "used_pin_number                       -0.000418  -0.001394         1.000000   \n",
       "online_order                          -0.000533  -0.000223        -0.000290   \n",
       "\n",
       "                                online_order  \n",
       "distance_from_home                 -0.001302  \n",
       "distance_from_last_transaction      0.000141  \n",
       "ratio_to_median_purchase_price     -0.000330  \n",
       "repeat_retailer                    -0.000533  \n",
       "used_chip                          -0.000223  \n",
       "used_pin_number                    -0.000290  \n",
       "online_order                        1.000000  "
      ]
     },
     "execution_count": 11,
     "metadata": {},
     "output_type": "execute_result"
    }
   ],
   "source": [
    "corr_matrix=df.corr()\n",
    "corr_matrix"
   ]
  },
  {
   "cell_type": "code",
   "execution_count": 12,
   "metadata": {},
   "outputs": [
    {
     "data": {
      "image/png": "[encoded data removed]",
      "text/plain": [
       "<Figure size 800x700 with 2 Axes>"
      ]
     },
     "metadata": {},
     "output_type": "display_data"
    }
   ],
   "source": [
    "fig,ax = plt.subplots(1,1 , figsize =(8,7))\n",
    "sns.heatmap(corr_matrix,annot= True, cmap = 'crest',linewidths=0.05,ax=ax)\n",
    "plt.show()"
   ]
  },
  {
   "cell_type": "code",
   "execution_count": 13,
   "metadata": {},
   "outputs": [
    {
     "data": {
      "image/png": "[encoded data removed]",
      "text/plain": [
       "<Figure size 640x480 with 1 Axes>"
      ]
     },
     "metadata": {},
     "output_type": "display_data"
    }
   ],
   "source": [
    "sns.boxplot(data=df ,x = 'ratio_to_median_purchase_price',y = 'fraud')\n",
    "plt.show()"
   ]
  },
  {
   "cell_type": "code",
   "execution_count": 15,
   "metadata": {},
   "outputs": [
    {
     "data": {
      "image/png": "[encoded data removed]",
      "text/plain": [
       "<Figure size 640x480 with 1 Axes>"
      ]
     },
     "metadata": {},
     "output_type": "display_data"
    }
   ],
   "source": [
    "sns.countplot(data=df, x = 'fraud')\n",
    "plt.show()"
   ]
  },
  {
   "cell_type": "code",
   "execution_count": 16,
   "metadata": {},
   "outputs": [],
   "source": [
    "def percetage_of_nan(df,col):\n",
    "    num = df[col].isna().sum()\n",
    "    tot = df.shape[0]\n",
    "    return f\"The percentage of NAN values in the {col} is {(num/tot)*100} %\\n\""
   ]
  },
  {
   "cell_type": "code",
   "execution_count": 18,
   "metadata": {},
   "outputs": [
    {
     "name": "stdout",
     "output_type": "stream",
     "text": [
      "The percentage of NAN values in the distance_from_home is 9.999950000249998e-05 %\n",
      "\n",
      "The percentage of NAN values in the distance_from_last_transaction is 0.00029999850000749997 %\n",
      "\n",
      "The percentage of NAN values in the ratio_to_median_purchase_price is 0.00029999850000749997 %\n",
      "\n",
      "The percentage of NAN values in the repeat_retailer is 0.00029999850000749997 %\n",
      "\n",
      "The percentage of NAN values in the used_chip is 0.00029999850000749997 %\n",
      "\n",
      "The percentage of NAN values in the used_pin_number is 0.00029999850000749997 %\n",
      "\n",
      "The percentage of NAN values in the online_order is 0.00029999850000749997 %\n",
      "\n",
      "The percentage of NAN values in the fraud is 0.00029999850000749997 %\n",
      "\n"
     ]
    }
   ],
   "source": [
    "for i in df.columns:\n",
    "    print(percetage_of_nan(df,i))"
   ]
  },
  {
   "cell_type": "code",
   "execution_count": 19,
   "metadata": {},
   "outputs": [],
   "source": [
    "for i in df.columns:\n",
    "    df.dropna(subset= i, axis= 0,inplace=True)"
   ]
  },
  {
   "cell_type": "code",
   "execution_count": 21,
   "metadata": {},
   "outputs": [
    {
     "name": "stdout",
     "output_type": "stream",
     "text": [
      "The percentage of NAN values in the distance_from_home is 0.0 %\n",
      "\n",
      "The percentage of NAN values in the distance_from_last_transaction is 0.0 %\n",
      "\n",
      "The percentage of NAN values in the ratio_to_median_purchase_price is 0.0 %\n",
      "\n",
      "The percentage of NAN values in the repeat_retailer is 0.0 %\n",
      "\n",
      "The percentage of NAN values in the used_chip is 0.0 %\n",
      "\n",
      "The percentage of NAN values in the used_pin_number is 0.0 %\n",
      "\n",
      "The percentage of NAN values in the online_order is 0.0 %\n",
      "\n",
      "The percentage of NAN values in the fraud is 0.0 %\n",
      "\n"
     ]
    }
   ],
   "source": [
    "for i in df.columns:\n",
    "    print(percetage_of_nan(df,i))"
   ]
  },
  {
   "cell_type": "code",
   "execution_count": 22,
   "metadata": {},
   "outputs": [
    {
     "data": {
      "text/plain": [
       "2"
      ]
     },
     "execution_count": 22,
     "metadata": {},
     "output_type": "execute_result"
    }
   ],
   "source": [
    "df.duplicated().sum()"
   ]
  },
  {
   "cell_type": "code",
   "execution_count": 23,
   "metadata": {},
   "outputs": [],
   "source": [
    "df.drop_duplicates(inplace=True)"
   ]
  },
  {
   "cell_type": "code",
   "execution_count": 24,
   "metadata": {},
   "outputs": [
    {
     "data": {
      "text/plain": [
       "1000000"
      ]
     },
     "execution_count": 24,
     "metadata": {},
     "output_type": "execute_result"
    }
   ],
   "source": [
    "df.shape[0]"
   ]
  },
  {
   "cell_type": "markdown",
   "metadata": {},
   "source": [
    "# Prepare data for modeling "
   ]
  },
  {
   "cell_type": "code",
   "execution_count": 25,
   "metadata": {},
   "outputs": [],
   "source": [
    "not_fraud = df[df['fraud'] == 'not_fraud']\n",
    "fraud= df[df['fraud'] == 'fraud']"
   ]
  },
  {
   "cell_type": "code",
   "execution_count": 26,
   "metadata": {},
   "outputs": [
    {
     "data": {
      "text/plain": [
       "(912597, 8)"
      ]
     },
     "execution_count": 26,
     "metadata": {},
     "output_type": "execute_result"
    }
   ],
   "source": [
    "not_fraud.shape"
   ]
  },
  {
   "cell_type": "code",
   "execution_count": 27,
   "metadata": {},
   "outputs": [
    {
     "data": {
      "text/plain": [
       "(87403, 8)"
      ]
     },
     "execution_count": 27,
     "metadata": {},
     "output_type": "execute_result"
    }
   ],
   "source": [
    "fraud.shape"
   ]
  },
  {
   "cell_type": "code",
   "execution_count": 28,
   "metadata": {},
   "outputs": [
    {
     "data": {
      "text/html": [
       "<div>\n",
       "<style scoped>\n",
       "    .dataframe tbody tr th:only-of-type {\n",
       "        vertical-align: middle;\n",
       "    }\n",
       "\n",
       "    .dataframe tbody tr th {\n",
       "        vertical-align: top;\n",
       "    }\n",
       "\n",
       "    .dataframe thead th {\n",
       "        text-align: right;\n",
       "    }\n",
       "</style>\n",
       "<table border=\"1\" class=\"dataframe\">\n",
       "  <thead>\n",
       "    <tr style=\"text-align: right;\">\n",
       "      <th></th>\n",
       "      <th>distance_from_home</th>\n",
       "      <th>distance_from_last_transaction</th>\n",
       "      <th>ratio_to_median_purchase_price</th>\n",
       "      <th>repeat_retailer</th>\n",
       "      <th>used_chip</th>\n",
       "      <th>used_pin_number</th>\n",
       "      <th>online_order</th>\n",
       "    </tr>\n",
       "    <tr>\n",
       "      <th>fraud</th>\n",
       "      <th></th>\n",
       "      <th></th>\n",
       "      <th></th>\n",
       "      <th></th>\n",
       "      <th></th>\n",
       "      <th></th>\n",
       "      <th></th>\n",
       "    </tr>\n",
       "  </thead>\n",
       "  <tbody>\n",
       "    <tr>\n",
       "      <th>fraud</th>\n",
       "      <td>66.261876</td>\n",
       "      <td>12.712185</td>\n",
       "      <td>6.006323</td>\n",
       "      <td>0.880119</td>\n",
       "      <td>0.256399</td>\n",
       "      <td>0.003123</td>\n",
       "      <td>0.946318</td>\n",
       "    </tr>\n",
       "    <tr>\n",
       "      <th>not_fraud</th>\n",
       "      <td>22.832976</td>\n",
       "      <td>4.301391</td>\n",
       "      <td>1.423642</td>\n",
       "      <td>0.881672</td>\n",
       "      <td>0.359402</td>\n",
       "      <td>0.109944</td>\n",
       "      <td>0.622225</td>\n",
       "    </tr>\n",
       "  </tbody>\n",
       "</table>\n",
       "</div>"
      ],
      "text/plain": [
       "           distance_from_home  distance_from_last_transaction  \\\n",
       "fraud                                                           \n",
       "fraud               66.261876                       12.712185   \n",
       "not_fraud           22.832976                        4.301391   \n",
       "\n",
       "           ratio_to_median_purchase_price  repeat_retailer  used_chip  \\\n",
       "fraud                                                                   \n",
       "fraud                            6.006323         0.880119   0.256399   \n",
       "not_fraud                        1.423642         0.881672   0.359402   \n",
       "\n",
       "           used_pin_number  online_order  \n",
       "fraud                                     \n",
       "fraud             0.003123      0.946318  \n",
       "not_fraud         0.109944      0.622225  "
      ]
     },
     "execution_count": 28,
     "metadata": {},
     "output_type": "execute_result"
    }
   ],
   "source": [
    "df.groupby('fraud').mean()"
   ]
  },
  {
   "cell_type": "code",
   "execution_count": 29,
   "metadata": {},
   "outputs": [],
   "source": [
    "# fraud shape is 87403\n",
    "not_fraud_data = not_fraud.sample(n=87403)"
   ]
  },
  {
   "cell_type": "code",
   "execution_count": 30,
   "metadata": {},
   "outputs": [
    {
     "data": {
      "text/html": [
       "<div>\n",
       "<style scoped>\n",
       "    .dataframe tbody tr th:only-of-type {\n",
       "        vertical-align: middle;\n",
       "    }\n",
       "\n",
       "    .dataframe tbody tr th {\n",
       "        vertical-align: top;\n",
       "    }\n",
       "\n",
       "    .dataframe thead th {\n",
       "        text-align: right;\n",
       "    }\n",
       "</style>\n",
       "<table border=\"1\" class=\"dataframe\">\n",
       "  <thead>\n",
       "    <tr style=\"text-align: right;\">\n",
       "      <th></th>\n",
       "      <th>distance_from_home</th>\n",
       "      <th>distance_from_last_transaction</th>\n",
       "      <th>ratio_to_median_purchase_price</th>\n",
       "      <th>repeat_retailer</th>\n",
       "      <th>used_chip</th>\n",
       "      <th>used_pin_number</th>\n",
       "      <th>online_order</th>\n",
       "      <th>fraud</th>\n",
       "    </tr>\n",
       "  </thead>\n",
       "  <tbody>\n",
       "    <tr>\n",
       "      <th>806282</th>\n",
       "      <td>2.976794</td>\n",
       "      <td>3.047495</td>\n",
       "      <td>2.637674</td>\n",
       "      <td>1.0</td>\n",
       "      <td>0.0</td>\n",
       "      <td>0.0</td>\n",
       "      <td>0.0</td>\n",
       "      <td>not_fraud</td>\n",
       "    </tr>\n",
       "    <tr>\n",
       "      <th>501113</th>\n",
       "      <td>47.199855</td>\n",
       "      <td>0.953981</td>\n",
       "      <td>1.753650</td>\n",
       "      <td>1.0</td>\n",
       "      <td>0.0</td>\n",
       "      <td>0.0</td>\n",
       "      <td>0.0</td>\n",
       "      <td>not_fraud</td>\n",
       "    </tr>\n",
       "    <tr>\n",
       "      <th>453006</th>\n",
       "      <td>1.505271</td>\n",
       "      <td>0.065089</td>\n",
       "      <td>1.069542</td>\n",
       "      <td>0.0</td>\n",
       "      <td>0.0</td>\n",
       "      <td>0.0</td>\n",
       "      <td>0.0</td>\n",
       "      <td>not_fraud</td>\n",
       "    </tr>\n",
       "    <tr>\n",
       "      <th>318061</th>\n",
       "      <td>7.732827</td>\n",
       "      <td>3.007790</td>\n",
       "      <td>0.961819</td>\n",
       "      <td>1.0</td>\n",
       "      <td>1.0</td>\n",
       "      <td>1.0</td>\n",
       "      <td>0.0</td>\n",
       "      <td>not_fraud</td>\n",
       "    </tr>\n",
       "    <tr>\n",
       "      <th>669944</th>\n",
       "      <td>1.792161</td>\n",
       "      <td>7.289374</td>\n",
       "      <td>0.433210</td>\n",
       "      <td>0.0</td>\n",
       "      <td>0.0</td>\n",
       "      <td>0.0</td>\n",
       "      <td>0.0</td>\n",
       "      <td>not_fraud</td>\n",
       "    </tr>\n",
       "    <tr>\n",
       "      <th>...</th>\n",
       "      <td>...</td>\n",
       "      <td>...</td>\n",
       "      <td>...</td>\n",
       "      <td>...</td>\n",
       "      <td>...</td>\n",
       "      <td>...</td>\n",
       "      <td>...</td>\n",
       "      <td>...</td>\n",
       "    </tr>\n",
       "    <tr>\n",
       "      <th>968588</th>\n",
       "      <td>58.117246</td>\n",
       "      <td>22.033757</td>\n",
       "      <td>0.747019</td>\n",
       "      <td>1.0</td>\n",
       "      <td>1.0</td>\n",
       "      <td>0.0</td>\n",
       "      <td>1.0</td>\n",
       "      <td>not_fraud</td>\n",
       "    </tr>\n",
       "    <tr>\n",
       "      <th>357923</th>\n",
       "      <td>2.955249</td>\n",
       "      <td>0.926447</td>\n",
       "      <td>0.270394</td>\n",
       "      <td>1.0</td>\n",
       "      <td>1.0</td>\n",
       "      <td>0.0</td>\n",
       "      <td>1.0</td>\n",
       "      <td>not_fraud</td>\n",
       "    </tr>\n",
       "    <tr>\n",
       "      <th>635011</th>\n",
       "      <td>42.764329</td>\n",
       "      <td>1.069672</td>\n",
       "      <td>1.755533</td>\n",
       "      <td>1.0</td>\n",
       "      <td>0.0</td>\n",
       "      <td>1.0</td>\n",
       "      <td>0.0</td>\n",
       "      <td>not_fraud</td>\n",
       "    </tr>\n",
       "    <tr>\n",
       "      <th>717293</th>\n",
       "      <td>16.226280</td>\n",
       "      <td>1.628782</td>\n",
       "      <td>4.798162</td>\n",
       "      <td>1.0</td>\n",
       "      <td>1.0</td>\n",
       "      <td>1.0</td>\n",
       "      <td>0.0</td>\n",
       "      <td>not_fraud</td>\n",
       "    </tr>\n",
       "    <tr>\n",
       "      <th>261078</th>\n",
       "      <td>74.736813</td>\n",
       "      <td>1.690832</td>\n",
       "      <td>0.398303</td>\n",
       "      <td>1.0</td>\n",
       "      <td>0.0</td>\n",
       "      <td>0.0</td>\n",
       "      <td>0.0</td>\n",
       "      <td>not_fraud</td>\n",
       "    </tr>\n",
       "  </tbody>\n",
       "</table>\n",
       "<p>87403 rows × 8 columns</p>\n",
       "</div>"
      ],
      "text/plain": [
       "        distance_from_home  distance_from_last_transaction  \\\n",
       "806282            2.976794                        3.047495   \n",
       "501113           47.199855                        0.953981   \n",
       "453006            1.505271                        0.065089   \n",
       "318061            7.732827                        3.007790   \n",
       "669944            1.792161                        7.289374   \n",
       "...                    ...                             ...   \n",
       "968588           58.117246                       22.033757   \n",
       "357923            2.955249                        0.926447   \n",
       "635011           42.764329                        1.069672   \n",
       "717293           16.226280                        1.628782   \n",
       "261078           74.736813                        1.690832   \n",
       "\n",
       "        ratio_to_median_purchase_price  repeat_retailer  used_chip  \\\n",
       "806282                        2.637674              1.0        0.0   \n",
       "501113                        1.753650              1.0        0.0   \n",
       "453006                        1.069542              0.0        0.0   \n",
       "318061                        0.961819              1.0        1.0   \n",
       "669944                        0.433210              0.0        0.0   \n",
       "...                                ...              ...        ...   \n",
       "968588                        0.747019              1.0        1.0   \n",
       "357923                        0.270394              1.0        1.0   \n",
       "635011                        1.755533              1.0        0.0   \n",
       "717293                        4.798162              1.0        1.0   \n",
       "261078                        0.398303              1.0        0.0   \n",
       "\n",
       "        used_pin_number  online_order      fraud  \n",
       "806282              0.0           0.0  not_fraud  \n",
       "501113              0.0           0.0  not_fraud  \n",
       "453006              0.0           0.0  not_fraud  \n",
       "318061              1.0           0.0  not_fraud  \n",
       "669944              0.0           0.0  not_fraud  \n",
       "...                 ...           ...        ...  \n",
       "968588              0.0           1.0  not_fraud  \n",
       "357923              0.0           1.0  not_fraud  \n",
       "635011              1.0           0.0  not_fraud  \n",
       "717293              1.0           0.0  not_fraud  \n",
       "261078              0.0           0.0  not_fraud  \n",
       "\n",
       "[87403 rows x 8 columns]"
      ]
     },
     "execution_count": 30,
     "metadata": {},
     "output_type": "execute_result"
    }
   ],
   "source": [
    "not_fraud_data"
   ]
  },
  {
   "cell_type": "code",
   "execution_count": 31,
   "metadata": {},
   "outputs": [],
   "source": [
    "final_data = pd.concat([not_fraud_data, fraud], axis=0)"
   ]
  },
  {
   "cell_type": "code",
   "execution_count": 32,
   "metadata": {},
   "outputs": [
    {
     "data": {
      "text/html": [
       "<div>\n",
       "<style scoped>\n",
       "    .dataframe tbody tr th:only-of-type {\n",
       "        vertical-align: middle;\n",
       "    }\n",
       "\n",
       "    .dataframe tbody tr th {\n",
       "        vertical-align: top;\n",
       "    }\n",
       "\n",
       "    .dataframe thead th {\n",
       "        text-align: right;\n",
       "    }\n",
       "</style>\n",
       "<table border=\"1\" class=\"dataframe\">\n",
       "  <thead>\n",
       "    <tr style=\"text-align: right;\">\n",
       "      <th></th>\n",
       "      <th>distance_from_home</th>\n",
       "      <th>distance_from_last_transaction</th>\n",
       "      <th>ratio_to_median_purchase_price</th>\n",
       "      <th>repeat_retailer</th>\n",
       "      <th>used_chip</th>\n",
       "      <th>used_pin_number</th>\n",
       "      <th>online_order</th>\n",
       "      <th>fraud</th>\n",
       "    </tr>\n",
       "  </thead>\n",
       "  <tbody>\n",
       "    <tr>\n",
       "      <th>806282</th>\n",
       "      <td>2.976794</td>\n",
       "      <td>3.047495</td>\n",
       "      <td>2.637674</td>\n",
       "      <td>1.0</td>\n",
       "      <td>0.0</td>\n",
       "      <td>0.0</td>\n",
       "      <td>0.0</td>\n",
       "      <td>not_fraud</td>\n",
       "    </tr>\n",
       "    <tr>\n",
       "      <th>501113</th>\n",
       "      <td>47.199855</td>\n",
       "      <td>0.953981</td>\n",
       "      <td>1.753650</td>\n",
       "      <td>1.0</td>\n",
       "      <td>0.0</td>\n",
       "      <td>0.0</td>\n",
       "      <td>0.0</td>\n",
       "      <td>not_fraud</td>\n",
       "    </tr>\n",
       "    <tr>\n",
       "      <th>453006</th>\n",
       "      <td>1.505271</td>\n",
       "      <td>0.065089</td>\n",
       "      <td>1.069542</td>\n",
       "      <td>0.0</td>\n",
       "      <td>0.0</td>\n",
       "      <td>0.0</td>\n",
       "      <td>0.0</td>\n",
       "      <td>not_fraud</td>\n",
       "    </tr>\n",
       "    <tr>\n",
       "      <th>318061</th>\n",
       "      <td>7.732827</td>\n",
       "      <td>3.007790</td>\n",
       "      <td>0.961819</td>\n",
       "      <td>1.0</td>\n",
       "      <td>1.0</td>\n",
       "      <td>1.0</td>\n",
       "      <td>0.0</td>\n",
       "      <td>not_fraud</td>\n",
       "    </tr>\n",
       "    <tr>\n",
       "      <th>669944</th>\n",
       "      <td>1.792161</td>\n",
       "      <td>7.289374</td>\n",
       "      <td>0.433210</td>\n",
       "      <td>0.0</td>\n",
       "      <td>0.0</td>\n",
       "      <td>0.0</td>\n",
       "      <td>0.0</td>\n",
       "      <td>not_fraud</td>\n",
       "    </tr>\n",
       "    <tr>\n",
       "      <th>...</th>\n",
       "      <td>...</td>\n",
       "      <td>...</td>\n",
       "      <td>...</td>\n",
       "      <td>...</td>\n",
       "      <td>...</td>\n",
       "      <td>...</td>\n",
       "      <td>...</td>\n",
       "      <td>...</td>\n",
       "    </tr>\n",
       "    <tr>\n",
       "      <th>999908</th>\n",
       "      <td>45.296658</td>\n",
       "      <td>0.882736</td>\n",
       "      <td>8.856861</td>\n",
       "      <td>1.0</td>\n",
       "      <td>0.0</td>\n",
       "      <td>0.0</td>\n",
       "      <td>1.0</td>\n",
       "      <td>fraud</td>\n",
       "    </tr>\n",
       "    <tr>\n",
       "      <th>999916</th>\n",
       "      <td>167.139756</td>\n",
       "      <td>0.282253</td>\n",
       "      <td>0.308468</td>\n",
       "      <td>1.0</td>\n",
       "      <td>0.0</td>\n",
       "      <td>0.0</td>\n",
       "      <td>1.0</td>\n",
       "      <td>fraud</td>\n",
       "    </tr>\n",
       "    <tr>\n",
       "      <th>999919</th>\n",
       "      <td>124.640118</td>\n",
       "      <td>0.004416</td>\n",
       "      <td>0.434885</td>\n",
       "      <td>1.0</td>\n",
       "      <td>0.0</td>\n",
       "      <td>0.0</td>\n",
       "      <td>1.0</td>\n",
       "      <td>fraud</td>\n",
       "    </tr>\n",
       "    <tr>\n",
       "      <th>999939</th>\n",
       "      <td>51.412900</td>\n",
       "      <td>3.429330</td>\n",
       "      <td>29.914254</td>\n",
       "      <td>1.0</td>\n",
       "      <td>0.0</td>\n",
       "      <td>0.0</td>\n",
       "      <td>1.0</td>\n",
       "      <td>fraud</td>\n",
       "    </tr>\n",
       "    <tr>\n",
       "      <th>999949</th>\n",
       "      <td>15.724799</td>\n",
       "      <td>1.875906</td>\n",
       "      <td>11.009366</td>\n",
       "      <td>1.0</td>\n",
       "      <td>1.0</td>\n",
       "      <td>0.0</td>\n",
       "      <td>1.0</td>\n",
       "      <td>fraud</td>\n",
       "    </tr>\n",
       "  </tbody>\n",
       "</table>\n",
       "<p>174806 rows × 8 columns</p>\n",
       "</div>"
      ],
      "text/plain": [
       "        distance_from_home  distance_from_last_transaction  \\\n",
       "806282            2.976794                        3.047495   \n",
       "501113           47.199855                        0.953981   \n",
       "453006            1.505271                        0.065089   \n",
       "318061            7.732827                        3.007790   \n",
       "669944            1.792161                        7.289374   \n",
       "...                    ...                             ...   \n",
       "999908           45.296658                        0.882736   \n",
       "999916          167.139756                        0.282253   \n",
       "999919          124.640118                        0.004416   \n",
       "999939           51.412900                        3.429330   \n",
       "999949           15.724799                        1.875906   \n",
       "\n",
       "        ratio_to_median_purchase_price  repeat_retailer  used_chip  \\\n",
       "806282                        2.637674              1.0        0.0   \n",
       "501113                        1.753650              1.0        0.0   \n",
       "453006                        1.069542              0.0        0.0   \n",
       "318061                        0.961819              1.0        1.0   \n",
       "669944                        0.433210              0.0        0.0   \n",
       "...                                ...              ...        ...   \n",
       "999908                        8.856861              1.0        0.0   \n",
       "999916                        0.308468              1.0        0.0   \n",
       "999919                        0.434885              1.0        0.0   \n",
       "999939                       29.914254              1.0        0.0   \n",
       "999949                       11.009366              1.0        1.0   \n",
       "\n",
       "        used_pin_number  online_order      fraud  \n",
       "806282              0.0           0.0  not_fraud  \n",
       "501113              0.0           0.0  not_fraud  \n",
       "453006              0.0           0.0  not_fraud  \n",
       "318061              1.0           0.0  not_fraud  \n",
       "669944              0.0           0.0  not_fraud  \n",
       "...                 ...           ...        ...  \n",
       "999908              0.0           1.0      fraud  \n",
       "999916              0.0           1.0      fraud  \n",
       "999919              0.0           1.0      fraud  \n",
       "999939              0.0           1.0      fraud  \n",
       "999949              0.0           1.0      fraud  \n",
       "\n",
       "[174806 rows x 8 columns]"
      ]
     },
     "execution_count": 32,
     "metadata": {},
     "output_type": "execute_result"
    }
   ],
   "source": [
    "final_data"
   ]
  },
  {
   "cell_type": "code",
   "execution_count": 33,
   "metadata": {},
   "outputs": [
    {
     "data": {
      "text/html": [
       "<div>\n",
       "<style scoped>\n",
       "    .dataframe tbody tr th:only-of-type {\n",
       "        vertical-align: middle;\n",
       "    }\n",
       "\n",
       "    .dataframe tbody tr th {\n",
       "        vertical-align: top;\n",
       "    }\n",
       "\n",
       "    .dataframe thead th {\n",
       "        text-align: right;\n",
       "    }\n",
       "</style>\n",
       "<table border=\"1\" class=\"dataframe\">\n",
       "  <thead>\n",
       "    <tr style=\"text-align: right;\">\n",
       "      <th></th>\n",
       "      <th>distance_from_home</th>\n",
       "      <th>distance_from_last_transaction</th>\n",
       "      <th>ratio_to_median_purchase_price</th>\n",
       "      <th>repeat_retailer</th>\n",
       "      <th>used_chip</th>\n",
       "      <th>used_pin_number</th>\n",
       "      <th>online_order</th>\n",
       "    </tr>\n",
       "    <tr>\n",
       "      <th>fraud</th>\n",
       "      <th></th>\n",
       "      <th></th>\n",
       "      <th></th>\n",
       "      <th></th>\n",
       "      <th></th>\n",
       "      <th></th>\n",
       "      <th></th>\n",
       "    </tr>\n",
       "  </thead>\n",
       "  <tbody>\n",
       "    <tr>\n",
       "      <th>fraud</th>\n",
       "      <td>66.261876</td>\n",
       "      <td>12.712185</td>\n",
       "      <td>6.006323</td>\n",
       "      <td>0.880119</td>\n",
       "      <td>0.256399</td>\n",
       "      <td>0.003123</td>\n",
       "      <td>0.946318</td>\n",
       "    </tr>\n",
       "    <tr>\n",
       "      <th>not_fraud</th>\n",
       "      <td>22.780721</td>\n",
       "      <td>4.433852</td>\n",
       "      <td>1.422371</td>\n",
       "      <td>0.881114</td>\n",
       "      <td>0.360949</td>\n",
       "      <td>0.110111</td>\n",
       "      <td>0.622050</td>\n",
       "    </tr>\n",
       "  </tbody>\n",
       "</table>\n",
       "</div>"
      ],
      "text/plain": [
       "           distance_from_home  distance_from_last_transaction  \\\n",
       "fraud                                                           \n",
       "fraud               66.261876                       12.712185   \n",
       "not_fraud           22.780721                        4.433852   \n",
       "\n",
       "           ratio_to_median_purchase_price  repeat_retailer  used_chip  \\\n",
       "fraud                                                                   \n",
       "fraud                            6.006323         0.880119   0.256399   \n",
       "not_fraud                        1.422371         0.881114   0.360949   \n",
       "\n",
       "           used_pin_number  online_order  \n",
       "fraud                                     \n",
       "fraud             0.003123      0.946318  \n",
       "not_fraud         0.110111      0.622050  "
      ]
     },
     "execution_count": 33,
     "metadata": {},
     "output_type": "execute_result"
    }
   ],
   "source": [
    "final_data.groupby('fraud').mean()"
   ]
  },
  {
   "cell_type": "code",
   "execution_count": 34,
   "metadata": {},
   "outputs": [
    {
     "data": {
      "text/plain": [
       "not_fraud    87403\n",
       "fraud        87403\n",
       "Name: fraud, dtype: int64"
      ]
     },
     "execution_count": 34,
     "metadata": {},
     "output_type": "execute_result"
    }
   ],
   "source": [
    "final_data['fraud'].value_counts()"
   ]
  },
  {
   "cell_type": "code",
   "execution_count": 35,
   "metadata": {},
   "outputs": [],
   "source": [
    "x = final_data.drop('fraud', axis=1)\n",
    "y = final_data['fraud']"
   ]
  },
  {
   "cell_type": "code",
   "execution_count": 36,
   "metadata": {},
   "outputs": [],
   "source": [
    "x_train, x_test, y_train, y_test = train_test_split(x, y, test_size=0.2, stratify=y, random_state=42)"
   ]
  },
  {
   "cell_type": "code",
   "execution_count": 37,
   "metadata": {
    "scrolled": true
   },
   "outputs": [
    {
     "name": "stdout",
     "output_type": "stream",
     "text": [
      "(139844, 7) (34962, 7) (174806, 7)\n"
     ]
    }
   ],
   "source": [
    "print(x_train.shape, x_test.shape, x.shape)"
   ]
  },
  {
   "cell_type": "code",
   "execution_count": 39,
   "metadata": {},
   "outputs": [],
   "source": [
    "ss = StandardScaler()\n",
    "x_train_scaled = ss.fit_transform(x_train)"
   ]
  },
  {
   "cell_type": "code",
   "execution_count": 40,
   "metadata": {},
   "outputs": [],
   "source": [
    "le = LabelEncoder()\n",
    "y_train_encoded = le.fit_transform(y_train)"
   ]
  },
  {
   "cell_type": "code",
   "execution_count": 45,
   "metadata": {},
   "outputs": [],
   "source": [
    "x_test_scaled = ss.transform(x_test)\n",
    "y_test_encoded = le.transform(y_test)"
   ]
  },
  {
   "cell_type": "markdown",
   "metadata": {},
   "source": [
    "## Now we go with the model"
   ]
  },
  {
   "cell_type": "markdown",
   "metadata": {},
   "source": [
    "#### Logistic Regression"
   ]
  },
  {
   "cell_type": "code",
   "execution_count": 41,
   "metadata": {},
   "outputs": [],
   "source": [
    "train_accuracy = []\n",
    "test_accuracy = []\n",
    "precision = []\n",
    "recall = []\n",
    "f1 = []\n",
    "\n",
    "def calculate_acc(true, pred):\n",
    "    precision.append(precision_score(true, pred))\n",
    "    recall.append(recall_score(true, pred))\n",
    "    f1.append(f1_score(true, pred))\n",
    "    "
   ]
  },
  {
   "cell_type": "code",
   "execution_count": 46,
   "metadata": {},
   "outputs": [],
   "source": [
    "lr = LogisticRegression()\n",
    "lr.fit(x_train_scaled, y_train_encoded)\n",
    "lr_pred = lr.predict(x_test_scaled)"
   ]
  },
  {
   "cell_type": "code",
   "execution_count": 48,
   "metadata": {},
   "outputs": [
    {
     "data": {
      "text/plain": [
       "0.9414221154396202"
      ]
     },
     "execution_count": 48,
     "metadata": {},
     "output_type": "execute_result"
    }
   ],
   "source": [
    "accuracy_score(y_test_encoded, lr_pred)"
   ]
  },
  {
   "cell_type": "code",
   "execution_count": 50,
   "metadata": {},
   "outputs": [],
   "source": [
    "lr_cv = cross_val_score(lr, x_train_scaled, y_train_encoded, cv=5, scoring='accuracy')\n",
    "lr_score = lr_cv.mean()\n",
    "train_accuracy.append(lr_score)\n",
    "test_accuracy.append(accuracy_score(y_test_encoded, lr_pred))"
   ]
  },
  {
   "cell_type": "code",
   "execution_count": 51,
   "metadata": {},
   "outputs": [],
   "source": [
    "calculate_acc(y_test_encoded, lr_pred)"
   ]
  },
  {
   "cell_type": "code",
   "execution_count": 53,
   "metadata": {},
   "outputs": [
    {
     "data": {
      "text/plain": [
       "<AxesSubplot:>"
      ]
     },
     "execution_count": 53,
     "metadata": {},
     "output_type": "execute_result"
    },
    {
     "data": {
      "image/png": "[encoded data removed]",
      "text/plain": [
       "<Figure size 640x480 with 2 Axes>"
      ]
     },
     "metadata": {},
     "output_type": "display_data"
    }
   ],
   "source": [
    "cm_lr = confusion_matrix(y_test_encoded, lr_pred)\n",
    "sns.heatmap(cm_lr, annot=True)"
   ]
  },
  {
   "cell_type": "markdown",
   "metadata": {},
   "source": [
    "#### Decision Tree"
   ]
  },
  {
   "cell_type": "code",
   "execution_count": 54,
   "metadata": {},
   "outputs": [
    {
     "name": "stdout",
     "output_type": "stream",
     "text": [
      "Fitting 3 folds for each of 12 candidates, totalling 36 fits\n"
     ]
    },
    {
     "data": {
      "text/plain": [
       "GridSearchCV(cv=3, estimator=DecisionTreeClassifier(), n_jobs=-1,\n",
       "             param_grid={'max_depth': [5, 10, 20],\n",
       "                         'min_samples_leaf': [5, 10, 20, 50]},\n",
       "             scoring='accuracy', verbose=1)"
      ]
     },
     "execution_count": 54,
     "metadata": {},
     "output_type": "execute_result"
    }
   ],
   "source": [
    "dt = DecisionTreeClassifier()\n",
    "\n",
    "params = {\n",
    "    'max_depth': [5, 10, 20],\n",
    "    'min_samples_leaf': [5, 10, 20, 50]\n",
    "}\n",
    "\n",
    "dt_grid = GridSearchCV(dt, param_grid=params, \n",
    "                        cv=3, n_jobs=-1, verbose=1, scoring = \"accuracy\")\n",
    "dt_grid.fit(x_train_scaled, y_train_encoded)"
   ]
  },
  {
   "cell_type": "code",
   "execution_count": 55,
   "metadata": {
    "scrolled": true
   },
   "outputs": [],
   "source": [
    "dt_clf = dt_grid.best_estimator_"
   ]
  },
  {
   "cell_type": "code",
   "execution_count": 56,
   "metadata": {},
   "outputs": [
    {
     "data": {
      "text/plain": [
       "(0.999885590069218, 0.999907039272332)"
      ]
     },
     "execution_count": 56,
     "metadata": {},
     "output_type": "execute_result"
    }
   ],
   "source": [
    "dt_pred = dt_clf.predict(x_test_scaled)\n",
    "\n",
    "test_acc = accuracy_score(y_test_encoded, dt_pred)\n",
    "train_acc = accuracy_score(y_train_encoded, dt_clf.predict(x_train_scaled))\n",
    "test_acc, train_acc"
   ]
  },
  {
   "cell_type": "code",
   "execution_count": 57,
   "metadata": {},
   "outputs": [],
   "source": [
    "train_accuracy.append(train_acc)\n",
    "test_accuracy.append(test_acc)\n",
    "calculate_acc(y_test_encoded, dt_pred)"
   ]
  },
  {
   "cell_type": "code",
   "execution_count": 58,
   "metadata": {},
   "outputs": [
    {
     "data": {
      "text/plain": [
       "<AxesSubplot:>"
      ]
     },
     "execution_count": 58,
     "metadata": {},
     "output_type": "execute_result"
    },
    {
     "data": {
      "image/png": "[encoded data removed]",
      "text/plain": [
       "<Figure size 640x480 with 2 Axes>"
      ]
     },
     "metadata": {},
     "output_type": "display_data"
    }
   ],
   "source": [
    "cm_dt = confusion_matrix(y_test_encoded, dt_pred)\n",
    "sns.heatmap(cm_dt, annot = True)"
   ]
  },
  {
   "cell_type": "markdown",
   "metadata": {},
   "source": [
    "#### Random Forest"
   ]
  },
  {
   "cell_type": "code",
   "execution_count": 59,
   "metadata": {},
   "outputs": [
    {
     "data": {
      "text/plain": [
       "GridSearchCV(cv=3, estimator=RandomForestClassifier(),\n",
       "             param_grid={'max_depth': [3, 6, 9], 'max_leaf_nodes': [3, 6, 9],\n",
       "                         'n_estimators': [50, 100, 150]})"
      ]
     },
     "execution_count": 59,
     "metadata": {},
     "output_type": "execute_result"
    }
   ],
   "source": [
    "rfc = RandomForestClassifier()\n",
    "\n",
    "parameters = { \n",
    "    'n_estimators': [50, 100, 150], \n",
    "     \n",
    "    'max_depth': [3, 6, 9], \n",
    "    'max_leaf_nodes': [3, 6, 9], \n",
    "} \n",
    "\n",
    "rfc_grid = GridSearchCV(rfc, param_grid=parameters, cv=3)\n",
    "\n",
    "rfc_grid.fit(x_train_scaled, y_train_encoded)"
   ]
  },
  {
   "cell_type": "code",
   "execution_count": 60,
   "metadata": {},
   "outputs": [
    {
     "data": {
      "text/plain": [
       "{'max_depth': 9, 'max_leaf_nodes': 9, 'n_estimators': 100}"
      ]
     },
     "execution_count": 60,
     "metadata": {},
     "output_type": "execute_result"
    }
   ],
   "source": [
    "rfc_grid.best_params_"
   ]
  },
  {
   "cell_type": "code",
   "execution_count": 62,
   "metadata": {},
   "outputs": [],
   "source": [
    "rfc_clf = RandomForestClassifier(max_depth=9, max_leaf_nodes=9, n_estimators=100, max_features='sqrt')\n",
    "rfc_clf.fit(x_train_scaled, y_train_encoded)\n",
    "\n",
    "rfc_pred = rfc_clf.predict(x_test_scaled)"
   ]
  },
  {
   "cell_type": "code",
   "execution_count": 63,
   "metadata": {},
   "outputs": [
    {
     "data": {
      "text/plain": [
       "(0.9978262113151422, 0.9974185521009125)"
      ]
     },
     "execution_count": 63,
     "metadata": {},
     "output_type": "execute_result"
    }
   ],
   "source": [
    "test_acc = accuracy_score(y_test_encoded, rfc_pred)\n",
    "train_acc = accuracy_score(y_train_encoded, rfc_clf.predict(x_train_scaled))\n",
    "test_acc, train_acc"
   ]
  },
  {
   "cell_type": "code",
   "execution_count": 64,
   "metadata": {},
   "outputs": [],
   "source": [
    "train_accuracy.append(train_acc)\n",
    "test_accuracy.append(test_acc)"
   ]
  },
  {
   "cell_type": "code",
   "execution_count": 65,
   "metadata": {},
   "outputs": [],
   "source": [
    "calculate_acc(y_test_encoded, rfc_pred)"
   ]
  },
  {
   "cell_type": "code",
   "execution_count": 67,
   "metadata": {},
   "outputs": [
    {
     "data": {
      "text/plain": [
       "<AxesSubplot:>"
      ]
     },
     "execution_count": 67,
     "metadata": {},
     "output_type": "execute_result"
    },
    {
     "data": {
      "image/png": "[encoded data removed]",
      "text/plain": [
       "<Figure size 640x480 with 2 Axes>"
      ]
     },
     "metadata": {},
     "output_type": "display_data"
    }
   ],
   "source": [
    "cm_rfc = confusion_matrix(y_test_encoded, rfc_pred)\n",
    "sns.heatmap(cm_rfc, annot=True)"
   ]
  },
  {
   "cell_type": "code",
   "execution_count": 68,
   "metadata": {},
   "outputs": [
    {
     "data": {
      "image/png": "[encoded data removed]",
      "text/plain": [
       "<Figure size 640x480 with 1 Axes>"
      ]
     },
     "metadata": {},
     "output_type": "display_data"
    }
   ],
   "source": [
    "plt.figure()\n",
    "\n",
    "models = [\n",
    "{\n",
    "    'label': 'Logistic Regression',\n",
    "    'model': lr,\n",
    "},\n",
    "{\n",
    "     'label' : 'Decision Tree',\n",
    "     'model' : dt_clf\n",
    "},\n",
    "{\n",
    "    'label': 'Gradient Boosting',\n",
    "    'model': rfc_clf,\n",
    "}\n",
    "]\n",
    "\n",
    "for m in models:\n",
    "    model = m['model']\n",
    "    model.fit(x_train_scaled, y_train_encoded)\n",
    "    y_pred=model.predict(x_test_scaled)\n",
    "    \n",
    "    fpr, tpr, thresholds = roc_curve(y_test_encoded, model.predict_proba(x_test_scaled)[:,1])\n",
    "    auc = roc_auc_score(y_test_encoded,model.predict(x_test_scaled))\n",
    "    plt.plot(fpr, tpr, label='%s ROC (area = %0.2f)' % (m['label'], auc))\n",
    "    \n",
    "plt.plot([0, 1], [0, 1],'r--')\n",
    "plt.xlim([0.0, 1.0])\n",
    "plt.ylim([0.0, 1.05])\n",
    "plt.xlabel('1-Specificity(False Positive Rate)')\n",
    "plt.ylabel('Sensitivity(True Positive Rate)')\n",
    "plt.title('Receiver Operating Characteristic')\n",
    "plt.legend(loc=\"lower right\")\n",
    "plt.show()   "
   ]
  },
  {
   "cell_type": "code",
   "execution_count": 69,
   "metadata": {},
   "outputs": [
    {
     "ename": "ValueError",
     "evalue": "Length of values (4) does not match length of index (3)",
     "output_type": "error",
     "traceback": [
      "\u001b[1;31m---------------------------------------------------------------------------\u001b[0m",
      "\u001b[1;31mValueError\u001b[0m                                Traceback (most recent call last)",
      "\u001b[1;32m~\\AppData\\Local\\Temp\\ipykernel_32656\\453415157.py\u001b[0m in \u001b[0;36m<module>\u001b[1;34m\u001b[0m\n\u001b[0;32m      4\u001b[0m \u001b[0mmodel_df\u001b[0m\u001b[1;33m[\u001b[0m\u001b[1;34m'recall'\u001b[0m\u001b[1;33m]\u001b[0m \u001b[1;33m=\u001b[0m \u001b[0mrecall\u001b[0m\u001b[1;33m\u001b[0m\u001b[1;33m\u001b[0m\u001b[0m\n\u001b[0;32m      5\u001b[0m \u001b[0mmodel_df\u001b[0m\u001b[1;33m[\u001b[0m\u001b[1;34m'f1-score'\u001b[0m\u001b[1;33m]\u001b[0m \u001b[1;33m=\u001b[0m \u001b[0mf1\u001b[0m\u001b[1;33m\u001b[0m\u001b[1;33m\u001b[0m\u001b[0m\n\u001b[1;32m----> 6\u001b[1;33m \u001b[0mmodel_df\u001b[0m\u001b[1;33m[\u001b[0m\u001b[1;34m'train_accuracy'\u001b[0m\u001b[1;33m]\u001b[0m \u001b[1;33m=\u001b[0m \u001b[0mtrain_accuracy\u001b[0m\u001b[1;33m\u001b[0m\u001b[1;33m\u001b[0m\u001b[0m\n\u001b[0m\u001b[0;32m      7\u001b[0m \u001b[0mmodel_df\u001b[0m\u001b[1;33m[\u001b[0m\u001b[1;34m'test_accuracy'\u001b[0m\u001b[1;33m]\u001b[0m \u001b[1;33m=\u001b[0m \u001b[0mtest_accuracy\u001b[0m\u001b[1;33m\u001b[0m\u001b[1;33m\u001b[0m\u001b[0m\n",
      "\u001b[1;32mc:\\Users\\shawk\\anaconda3\\lib\\site-packages\\pandas\\core\\frame.py\u001b[0m in \u001b[0;36m__setitem__\u001b[1;34m(self, key, value)\u001b[0m\n\u001b[0;32m   3653\u001b[0m         \u001b[1;32melse\u001b[0m\u001b[1;33m:\u001b[0m\u001b[1;33m\u001b[0m\u001b[1;33m\u001b[0m\u001b[0m\n\u001b[0;32m   3654\u001b[0m             \u001b[1;31m# set column\u001b[0m\u001b[1;33m\u001b[0m\u001b[1;33m\u001b[0m\u001b[0m\n\u001b[1;32m-> 3655\u001b[1;33m             \u001b[0mself\u001b[0m\u001b[1;33m.\u001b[0m\u001b[0m_set_item\u001b[0m\u001b[1;33m(\u001b[0m\u001b[0mkey\u001b[0m\u001b[1;33m,\u001b[0m \u001b[0mvalue\u001b[0m\u001b[1;33m)\u001b[0m\u001b[1;33m\u001b[0m\u001b[1;33m\u001b[0m\u001b[0m\n\u001b[0m\u001b[0;32m   3656\u001b[0m \u001b[1;33m\u001b[0m\u001b[0m\n\u001b[0;32m   3657\u001b[0m     \u001b[1;32mdef\u001b[0m \u001b[0m_setitem_slice\u001b[0m\u001b[1;33m(\u001b[0m\u001b[0mself\u001b[0m\u001b[1;33m,\u001b[0m \u001b[0mkey\u001b[0m\u001b[1;33m:\u001b[0m \u001b[0mslice\u001b[0m\u001b[1;33m,\u001b[0m \u001b[0mvalue\u001b[0m\u001b[1;33m)\u001b[0m\u001b[1;33m:\u001b[0m\u001b[1;33m\u001b[0m\u001b[1;33m\u001b[0m\u001b[0m\n",
      "\u001b[1;32mc:\\Users\\shawk\\anaconda3\\lib\\site-packages\\pandas\\core\\frame.py\u001b[0m in \u001b[0;36m_set_item\u001b[1;34m(self, key, value)\u001b[0m\n\u001b[0;32m   3830\u001b[0m         \u001b[0mensure\u001b[0m \u001b[0mhomogeneity\u001b[0m\u001b[1;33m.\u001b[0m\u001b[1;33m\u001b[0m\u001b[1;33m\u001b[0m\u001b[0m\n\u001b[0;32m   3831\u001b[0m         \"\"\"\n\u001b[1;32m-> 3832\u001b[1;33m         \u001b[0mvalue\u001b[0m \u001b[1;33m=\u001b[0m \u001b[0mself\u001b[0m\u001b[1;33m.\u001b[0m\u001b[0m_sanitize_column\u001b[0m\u001b[1;33m(\u001b[0m\u001b[0mvalue\u001b[0m\u001b[1;33m)\u001b[0m\u001b[1;33m\u001b[0m\u001b[1;33m\u001b[0m\u001b[0m\n\u001b[0m\u001b[0;32m   3833\u001b[0m \u001b[1;33m\u001b[0m\u001b[0m\n\u001b[0;32m   3834\u001b[0m         if (\n",
      "\u001b[1;32mc:\\Users\\shawk\\anaconda3\\lib\\site-packages\\pandas\\core\\frame.py\u001b[0m in \u001b[0;36m_sanitize_column\u001b[1;34m(self, value)\u001b[0m\n\u001b[0;32m   4536\u001b[0m \u001b[1;33m\u001b[0m\u001b[0m\n\u001b[0;32m   4537\u001b[0m         \u001b[1;32mif\u001b[0m \u001b[0mis_list_like\u001b[0m\u001b[1;33m(\u001b[0m\u001b[0mvalue\u001b[0m\u001b[1;33m)\u001b[0m\u001b[1;33m:\u001b[0m\u001b[1;33m\u001b[0m\u001b[1;33m\u001b[0m\u001b[0m\n\u001b[1;32m-> 4538\u001b[1;33m             \u001b[0mcom\u001b[0m\u001b[1;33m.\u001b[0m\u001b[0mrequire_length_match\u001b[0m\u001b[1;33m(\u001b[0m\u001b[0mvalue\u001b[0m\u001b[1;33m,\u001b[0m \u001b[0mself\u001b[0m\u001b[1;33m.\u001b[0m\u001b[0mindex\u001b[0m\u001b[1;33m)\u001b[0m\u001b[1;33m\u001b[0m\u001b[1;33m\u001b[0m\u001b[0m\n\u001b[0m\u001b[0;32m   4539\u001b[0m         \u001b[1;32mreturn\u001b[0m \u001b[0msanitize_array\u001b[0m\u001b[1;33m(\u001b[0m\u001b[0mvalue\u001b[0m\u001b[1;33m,\u001b[0m \u001b[0mself\u001b[0m\u001b[1;33m.\u001b[0m\u001b[0mindex\u001b[0m\u001b[1;33m,\u001b[0m \u001b[0mcopy\u001b[0m\u001b[1;33m=\u001b[0m\u001b[1;32mTrue\u001b[0m\u001b[1;33m,\u001b[0m \u001b[0mallow_2d\u001b[0m\u001b[1;33m=\u001b[0m\u001b[1;32mTrue\u001b[0m\u001b[1;33m)\u001b[0m\u001b[1;33m\u001b[0m\u001b[1;33m\u001b[0m\u001b[0m\n\u001b[0;32m   4540\u001b[0m \u001b[1;33m\u001b[0m\u001b[0m\n",
      "\u001b[1;32mc:\\Users\\shawk\\anaconda3\\lib\\site-packages\\pandas\\core\\common.py\u001b[0m in \u001b[0;36mrequire_length_match\u001b[1;34m(data, index)\u001b[0m\n\u001b[0;32m    555\u001b[0m     \"\"\"\n\u001b[0;32m    556\u001b[0m     \u001b[1;32mif\u001b[0m \u001b[0mlen\u001b[0m\u001b[1;33m(\u001b[0m\u001b[0mdata\u001b[0m\u001b[1;33m)\u001b[0m \u001b[1;33m!=\u001b[0m \u001b[0mlen\u001b[0m\u001b[1;33m(\u001b[0m\u001b[0mindex\u001b[0m\u001b[1;33m)\u001b[0m\u001b[1;33m:\u001b[0m\u001b[1;33m\u001b[0m\u001b[1;33m\u001b[0m\u001b[0m\n\u001b[1;32m--> 557\u001b[1;33m         raise ValueError(\n\u001b[0m\u001b[0;32m    558\u001b[0m             \u001b[1;34m\"Length of values \"\u001b[0m\u001b[1;33m\u001b[0m\u001b[1;33m\u001b[0m\u001b[0m\n\u001b[0;32m    559\u001b[0m             \u001b[1;34mf\"({len(data)}) \"\u001b[0m\u001b[1;33m\u001b[0m\u001b[1;33m\u001b[0m\u001b[0m\n",
      "\u001b[1;31mValueError\u001b[0m: Length of values (4) does not match length of index (3)"
     ]
    }
   ],
   "source": [
    "models = ['Logistic Regression','Decision Tree', 'Random Forest']\n",
    "model_df = pd.DataFrame(index=models, columns=['precision', 'recall', 'f1-score', 'train_accuracy', 'test_accuracy'])\n",
    "model_df['precision'] = precision\n",
    "model_df['recall'] = recall\n",
    "model_df['f1-score'] = f1\n",
    "model_df['train_accuracy'] = train_accuracy\n",
    "model_df['test_accuracy'] = test_accuracy"
   ]
  },
  {
   "cell_type": "code",
   "execution_count": 164,
   "metadata": {},
   "outputs": [
    {
     "data": {
      "text/html": [
       "<div>\n",
       "<style scoped>\n",
       "    .dataframe tbody tr th:only-of-type {\n",
       "        vertical-align: middle;\n",
       "    }\n",
       "\n",
       "    .dataframe tbody tr th {\n",
       "        vertical-align: top;\n",
       "    }\n",
       "\n",
       "    .dataframe thead th {\n",
       "        text-align: right;\n",
       "    }\n",
       "</style>\n",
       "<table border=\"1\" class=\"dataframe\">\n",
       "  <thead>\n",
       "    <tr style=\"text-align: right;\">\n",
       "      <th></th>\n",
       "      <th>precision</th>\n",
       "      <th>recall</th>\n",
       "      <th>f1-score</th>\n",
       "      <th>train_accuracy</th>\n",
       "      <th>test_accuracy</th>\n",
       "    </tr>\n",
       "  </thead>\n",
       "  <tbody>\n",
       "    <tr>\n",
       "      <th>Logistic Regression</th>\n",
       "      <td>0.933438</td>\n",
       "      <td>0.949030</td>\n",
       "      <td>0.941170</td>\n",
       "      <td>0.939876</td>\n",
       "      <td>0.940678</td>\n",
       "    </tr>\n",
       "    <tr>\n",
       "      <th>Decision Tree</th>\n",
       "      <td>0.999771</td>\n",
       "      <td>0.999886</td>\n",
       "      <td>0.999828</td>\n",
       "      <td>0.999907</td>\n",
       "      <td>0.999828</td>\n",
       "    </tr>\n",
       "    <tr>\n",
       "      <th>Random Forest</th>\n",
       "      <td>0.998401</td>\n",
       "      <td>0.999943</td>\n",
       "      <td>0.999171</td>\n",
       "      <td>0.984476</td>\n",
       "      <td>0.999171</td>\n",
       "    </tr>\n",
       "  </tbody>\n",
       "</table>\n",
       "</div>"
      ],
      "text/plain": [
       "                     precision    recall  f1-score  train_accuracy  \\\n",
       "Logistic Regression   0.933438  0.949030  0.941170        0.939876   \n",
       "Decision Tree         0.999771  0.999886  0.999828        0.999907   \n",
       "Random Forest         0.998401  0.999943  0.999171        0.984476   \n",
       "\n",
       "                     test_accuracy  \n",
       "Logistic Regression       0.940678  \n",
       "Decision Tree             0.999828  \n",
       "Random Forest             0.999171  "
      ]
     },
     "execution_count": 164,
     "metadata": {},
     "output_type": "execute_result"
    }
   ],
   "source": [
    "model_df"
   ]
  },
  {
   "cell_type": "code",
   "execution_count": null,
   "metadata": {},
   "outputs": [],
   "source": []
  },
  {
   "cell_type": "code",
   "execution_count": null,
   "metadata": {},
   "outputs": [],
   "source": []
  }
 ],
 "metadata": {
  "kernelspec": {
   "display_name": "Python 3 (ipykernel)",
   "language": "python",
   "name": "python3"
  },
  "language_info": {
   "codemirror_mode": {
    "name": "ipython",
    "version": 3
   },
   "file_extension": ".py",
   "mimetype": "text/x-python",
   "name": "python",
   "nbconvert_exporter": "python",
   "pygments_lexer": "ipython3",
   "version": "3.9.13"
  }
 },
 "nbformat": 4,
 "nbformat_minor": 2
}
